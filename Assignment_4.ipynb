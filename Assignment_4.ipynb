{
 "cells": [
  {
   "cell_type": "code",
   "execution_count": 1,
   "id": "07dba9c7",
   "metadata": {},
   "outputs": [],
   "source": [
    "#What exactly is []?\n",
    "# its is square bracket and in python program it is used for index, list, sets and dictionaries\n",
    "\n",
    "#In a list of values stored in a variable called spam, how would you assign the value &#39;hello&#39; as the\n",
    "#third value? (Assume [2, 4, 6, 8, 10] are in spam.)"
   ]
  },
  {
   "cell_type": "code",
   "execution_count": 19,
   "id": "0dbbaba1",
   "metadata": {},
   "outputs": [
    {
     "name": "stdout",
     "output_type": "stream",
     "text": [
      "([2, 4, 6, 8, 10], ['a', 'b', 'c', 'd'], ['hello'])\n"
     ]
    }
   ],
   "source": [
    "\n",
    "#In a list of values stored in a variable called spam, how would you assign the value hello as the\n",
    "#third value? (Assume [2, 4, 6, 8, 10] are in spam.)\n",
    "# we can assign them in the string either in \"\" or ''\n",
    "\n",
    "spam = [2, 4, 6, 8, 10], ['a', 'b', 'c', 'd'], [\"hello\"]\n",
    "print(spam)"
   ]
  },
  {
   "cell_type": "code",
   "execution_count": 15,
   "id": "47e7f84c",
   "metadata": {},
   "outputs": [],
   "source": [
    "# Lets pretend the spam includes the list ['a', 'b', 'c', 'd'] for the next three queries."
   ]
  },
  {
   "cell_type": "code",
   "execution_count": 30,
   "id": "209a8105",
   "metadata": {},
   "outputs": [
    {
     "data": {
      "text/plain": [
       "4"
      ]
     },
     "execution_count": 30,
     "metadata": {},
     "output_type": "execute_result"
    }
   ],
   "source": [
    "# What is the value of spam[int(int('3' * 2) / 11)]?\n",
    "spam = [1, 2, 3, 4, 5]\n",
    "\n",
    "spam[int(int('3' * 2) / 11)]"
   ]
  },
  {
   "cell_type": "code",
   "execution_count": 31,
   "id": "efaefafb",
   "metadata": {},
   "outputs": [
    {
     "data": {
      "text/plain": [
       "5"
      ]
     },
     "execution_count": 31,
     "metadata": {},
     "output_type": "execute_result"
    }
   ],
   "source": [
    "spam[-1]"
   ]
  },
  {
   "cell_type": "code",
   "execution_count": 32,
   "id": "929a3ab7",
   "metadata": {},
   "outputs": [
    {
     "data": {
      "text/plain": [
       "[1, 2]"
      ]
     },
     "execution_count": 32,
     "metadata": {},
     "output_type": "execute_result"
    }
   ],
   "source": [
    "spam[:2]"
   ]
  },
  {
   "cell_type": "code",
   "execution_count": 33,
   "id": "ce88ed9a",
   "metadata": {},
   "outputs": [],
   "source": [
    "#Let's pretend bacon has the list [3.14, 'cat', True, 11, 'cat', True] for the next three questions."
   ]
  },
  {
   "cell_type": "code",
   "execution_count": 34,
   "id": "244b5fd9",
   "metadata": {},
   "outputs": [
    {
     "data": {
      "text/plain": [
       "1"
      ]
     },
     "execution_count": 34,
     "metadata": {},
     "output_type": "execute_result"
    }
   ],
   "source": [
    "bacon = [3.14, 'cat', True, 11, 'cat', True]\n",
    "bacon.index('cat')"
   ]
  },
  {
   "cell_type": "code",
   "execution_count": 37,
   "id": "d95337f5",
   "metadata": {},
   "outputs": [
    {
     "name": "stdout",
     "output_type": "stream",
     "text": [
      "[3.14, 'cat', True, 11, 'cat', True, 99, 99, 99]\n"
     ]
    }
   ],
   "source": [
    "bacon.append(99)\n",
    "print(bacon)"
   ]
  },
  {
   "cell_type": "code",
   "execution_count": 38,
   "id": "88322f52",
   "metadata": {},
   "outputs": [
    {
     "data": {
      "text/plain": [
       "1"
      ]
     },
     "execution_count": 38,
     "metadata": {},
     "output_type": "execute_result"
    }
   ],
   "source": [
    "bacon.index('cat')"
   ]
  },
  {
   "cell_type": "code",
   "execution_count": 40,
   "id": "510b4a92",
   "metadata": {},
   "outputs": [
    {
     "name": "stdout",
     "output_type": "stream",
     "text": [
      "[1, 2, 3, 4, 5, 6, 7, 8]\n"
     ]
    }
   ],
   "source": [
    "#9. What are the list concatenation and list replication operators?\n",
    "l1 = [1, 2, 3, 4]\n",
    "l2 = [5, 6, 7, 8]\n",
    "print(l1 + l2)"
   ]
  },
  {
   "cell_type": "code",
   "execution_count": 41,
   "id": "3c5647d5",
   "metadata": {},
   "outputs": [
    {
     "name": "stdout",
     "output_type": "stream",
     "text": [
      "[1, 2, 3, 1, 2, 3, 1, 2, 3]\n"
     ]
    }
   ],
   "source": [
    "#replication\n",
    "l1 = [1, 2, 3]\n",
    "print(l1 * 3)"
   ]
  },
  {
   "cell_type": "code",
   "execution_count": 42,
   "id": "a4adbbda",
   "metadata": {},
   "outputs": [],
   "source": [
    "#What is difference between the list methods append() and insert()?\n",
    "#Basically used for reversing like 1, 2, 3 , 4 5 x.append() it will give output as 5, 4, 3, 2, 1\n",
    "# insert() - function is used for inserting any value in the element"
   ]
  },
  {
   "cell_type": "code",
   "execution_count": 51,
   "id": "7246f6f5",
   "metadata": {},
   "outputs": [
    {
     "name": "stdout",
     "output_type": "stream",
     "text": [
      "['apple', 'grapes']\n"
     ]
    }
   ],
   "source": [
    "#What are the two methods for removing items from a list?\n",
    "\n",
    "l1 = [\"apple\", \"banana\", \"grapes\"]\n",
    "l1.remove(\"grapes\")\n",
    "\n",
    "l1 = [\"apple\", \"banana\", \"grapes\"]\n",
    "del l1[1]  # Removes the item at index 1 (in this case, \"banana\")\n",
    "print(l1)"
   ]
  },
  {
   "cell_type": "code",
   "execution_count": 52,
   "id": "37a45e16",
   "metadata": {},
   "outputs": [
    {
     "data": {
      "text/plain": [
       "['apple', 'grapes']"
      ]
     },
     "execution_count": 52,
     "metadata": {},
     "output_type": "execute_result"
    }
   ],
   "source": [
    "l1"
   ]
  },
  {
   "cell_type": "code",
   "execution_count": 54,
   "id": "6af39ae0",
   "metadata": {},
   "outputs": [
    {
     "name": "stdout",
     "output_type": "stream",
     "text": [
      "['apple', 'grapes']\n"
     ]
    }
   ],
   "source": [
    "l1 = [\"apple\", \"banana\", \"grapes\"]\n",
    "del l1[1]  # Removes the item at index 1 (in this case, \"banana\")\n",
    "print(l1)"
   ]
  },
  {
   "cell_type": "code",
   "execution_count": 53,
   "id": "53005019",
   "metadata": {},
   "outputs": [],
   "source": [
    "#Describe how list values and string values are identical.\n",
    "# list values\n",
    "l1 = [1, 2, 3, 4, \"True\", 3.14]"
   ]
  },
  {
   "cell_type": "code",
   "execution_count": 47,
   "id": "1e3aad58",
   "metadata": {},
   "outputs": [
    {
     "data": {
      "text/plain": [
       "[1, 2, 3, 4, 'True', 3.14]"
      ]
     },
     "execution_count": 47,
     "metadata": {},
     "output_type": "execute_result"
    }
   ],
   "source": [
    "l1"
   ]
  },
  {
   "cell_type": "code",
   "execution_count": 48,
   "id": "b10d0c89",
   "metadata": {},
   "outputs": [],
   "source": [
    "#string value\n",
    "s = (\"apple\", \"banana\", \"1 + 2\")"
   ]
  },
  {
   "cell_type": "code",
   "execution_count": 49,
   "id": "48759e9c",
   "metadata": {},
   "outputs": [
    {
     "data": {
      "text/plain": [
       "('apple', 'banana', '1 + 2')"
      ]
     },
     "execution_count": 49,
     "metadata": {},
     "output_type": "execute_result"
    }
   ],
   "source": []
  },
  {
   "cell_type": "code",
   "execution_count": 50,
   "id": "76b4e063",
   "metadata": {},
   "outputs": [
    {
     "name": "stdout",
     "output_type": "stream",
     "text": [
      "['apple', 'grapes']\n"
     ]
    }
   ],
   "source": [
    "l1 = [\"apple\", \"banana\", \"grapes\"]\n",
    "del l1[1]  # Removes the item at index 1 (in this case, \"banana\")\n",
    "print(l1)"
   ]
  },
  {
   "cell_type": "code",
   "execution_count": 55,
   "id": "de5c6857",
   "metadata": {},
   "outputs": [],
   "source": [
    "#13. What&#39;s the differene between tuples and lists?\n",
    "#list are muttable and homogenous in nature. please see below examples\n",
    "# tuples are immutable and hetrogenous in nature please see below\n",
    "l1 = [1, 2, 3, 4, 5]"
   ]
  },
  {
   "cell_type": "code",
   "execution_count": 56,
   "id": "c0612ac3",
   "metadata": {},
   "outputs": [
    {
     "data": {
      "text/plain": [
       "[1, 2, 3, 4, 5]"
      ]
     },
     "execution_count": 56,
     "metadata": {},
     "output_type": "execute_result"
    }
   ],
   "source": [
    "l1"
   ]
  },
  {
   "cell_type": "code",
   "execution_count": 58,
   "id": "152a30d1",
   "metadata": {},
   "outputs": [
    {
     "data": {
      "text/plain": [
       "[1, 2, 3, 4, 5, 1, 2, 3, 4, 5]"
      ]
     },
     "execution_count": 58,
     "metadata": {},
     "output_type": "execute_result"
    }
   ],
   "source": [
    "l1 + l1"
   ]
  },
  {
   "cell_type": "code",
   "execution_count": 59,
   "id": "80d17ad3",
   "metadata": {},
   "outputs": [],
   "source": [
    "t = (1, 2, 3, 4)"
   ]
  },
  {
   "cell_type": "code",
   "execution_count": 60,
   "id": "e6e37a94",
   "metadata": {},
   "outputs": [
    {
     "data": {
      "text/plain": [
       "(1, 2, 3, 4)"
      ]
     },
     "execution_count": 60,
     "metadata": {},
     "output_type": "execute_result"
    }
   ],
   "source": [
    "t"
   ]
  },
  {
   "cell_type": "code",
   "execution_count": 61,
   "id": "d5873028",
   "metadata": {},
   "outputs": [
    {
     "ename": "NameError",
     "evalue": "name 't1' is not defined",
     "output_type": "error",
     "traceback": [
      "\u001b[1;31m---------------------------------------------------------------------------\u001b[0m",
      "\u001b[1;31mNameError\u001b[0m                                 Traceback (most recent call last)",
      "Cell \u001b[1;32mIn[61], line 1\u001b[0m\n\u001b[1;32m----> 1\u001b[0m \u001b[43mt1\u001b[49m \u001b[38;5;241m+\u001b[39m t1\n",
      "\u001b[1;31mNameError\u001b[0m: name 't1' is not defined"
     ]
    }
   ],
   "source": [
    "t1 + t1"
   ]
  },
  {
   "cell_type": "code",
   "execution_count": 65,
   "id": "7593d630",
   "metadata": {},
   "outputs": [
    {
     "name": "stdout",
     "output_type": "stream",
     "text": [
      "42\n"
     ]
    }
   ],
   "source": [
    "#How do you type a tuple value that only contains the integer 42?\n",
    "t = (42,)\n",
    "print(t[0])"
   ]
  },
  {
   "cell_type": "code",
   "execution_count": 63,
   "id": "408a83d0",
   "metadata": {},
   "outputs": [
    {
     "data": {
      "text/plain": [
       "42"
      ]
     },
     "execution_count": 63,
     "metadata": {},
     "output_type": "execute_result"
    }
   ],
   "source": [
    "#How do you get a list value's tuple form? How do you get a tuple value's list form?"
   ]
  },
  {
   "cell_type": "code",
   "execution_count": 67,
   "id": "e73ee458",
   "metadata": {},
   "outputs": [
    {
     "name": "stdout",
     "output_type": "stream",
     "text": [
      "(1, 2, 3, 4, 5)\n",
      "list[[1, 2, 3, 4, 5]]\n"
     ]
    }
   ],
   "source": [
    "l = [1, 2, 3, 4, 5]\n",
    "t = tuple(l)\n",
    "print(t) # you can see the brackets are changes like [] to ()\n",
    "\n",
    "t = (1, 2, 3, 4, 5)\n",
    "l = list[l]\n",
    "print(l)"
   ]
  },
  {
   "cell_type": "code",
   "execution_count": 68,
   "id": "67f26a1a",
   "metadata": {},
   "outputs": [
    {
     "data": {
      "text/plain": [
       "'\\nVariables that \"contain\" list values in Python are actually storing references to the list objects rather than the lists themselves. This concept applies to all mutable objects in Python, not just lists.\\n\\nIn Python, variables are like labels or references that point to objects in memory. When a variable is assigned a list value, it stores a reference to the memory location where the list object is stored. It\\'s important to note that the variable itself does not directly contain the list elements or the entire list data. Instead, it holds a reference to the list object, allowing you to access and manipulate the list through that variable.\\n'"
      ]
     },
     "execution_count": 68,
     "metadata": {},
     "output_type": "execute_result"
    }
   ],
   "source": [
    "#16. Variables that \"contain\" list values are not necessarily lists themselves. Instead, what do they\n",
    "#contain? \n",
    "\n",
    "\"\"\"\n",
    "Variables that \"contain\" list values in Python are actually storing references to the list objects rather than the lists themselves. This concept applies to all mutable objects in Python, not just lists.\n",
    "\n",
    "In Python, variables are like labels or references that point to objects in memory. When a variable is assigned a list value, it stores a reference to the memory location where the list object is stored. It's important to note that the variable itself does not directly contain the list elements or the entire list data. Instead, it holds a reference to the list object, allowing you to access and manipulate the list through that variable.\n",
    "\"\"\""
   ]
  },
  {
   "cell_type": "code",
   "execution_count": null,
   "id": "9c7435bc",
   "metadata": {},
   "outputs": [],
   "source": [
    "#17. How do you distinguish between copy.copy() and copy.deepcopy()?\n",
    "#I am not clear on this."
   ]
  }
 ],
 "metadata": {
  "kernelspec": {
   "display_name": "Python 3 (ipykernel)",
   "language": "python",
   "name": "python3"
  },
  "language_info": {
   "codemirror_mode": {
    "name": "ipython",
    "version": 3
   },
   "file_extension": ".py",
   "mimetype": "text/x-python",
   "name": "python",
   "nbconvert_exporter": "python",
   "pygments_lexer": "ipython3",
   "version": "3.10.9"
  }
 },
 "nbformat": 4,
 "nbformat_minor": 5
}
